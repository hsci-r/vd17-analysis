{
 "cells": [
  {
   "cell_type": "code",
   "execution_count": 1,
   "metadata": {
    "collapsed": true,
    "ExecuteTime": {
     "end_time": "2023-06-12T19:06:29.891361Z",
     "start_time": "2023-06-12T19:06:29.855522Z"
    }
   },
   "outputs": [],
   "source": [
    "%load_ext autoreload\n",
    "%autoreload 2"
   ]
  },
  {
   "cell_type": "code",
   "execution_count": 2,
   "outputs": [],
   "source": [
    "from hereutil import here, add_to_sys_path\n",
    "add_to_sys_path(here())"
   ],
   "metadata": {
    "collapsed": false,
    "ExecuteTime": {
     "end_time": "2023-06-12T19:06:29.907852Z",
     "start_time": "2023-06-12T19:06:29.891999Z"
    }
   }
  },
  {
   "cell_type": "code",
   "execution_count": 7,
   "outputs": [],
   "source": [
    "from src.common_basis import *\n",
    "import pandas as pd"
   ],
   "metadata": {
    "collapsed": false,
    "ExecuteTime": {
     "end_time": "2023-06-12T19:09:23.024154Z",
     "start_time": "2023-06-12T19:09:23.001093Z"
    }
   }
  },
  {
   "cell_type": "code",
   "execution_count": 6,
   "outputs": [],
   "source": [
    "eng, con = get_connection()"
   ],
   "metadata": {
    "collapsed": false,
    "ExecuteTime": {
     "end_time": "2023-06-12T19:09:13.256403Z",
     "start_time": "2023-06-12T19:09:12.915278Z"
    }
   }
  },
  {
   "cell_type": "code",
   "execution_count": 99,
   "outputs": [
    {
     "data": {
      "text/plain": "        record_number           value\n0                   1   Umfangsangabe\n1                   3          304 S.\n2                   4  [2] Bl., 192 S\n3                   5           176 S\n4                   6         [2] Bl.\n...               ...             ...\n305361         310817         [81] Bl\n305362         310818          [2] Bl\n305363         310819          [1] Bl\n305364         310820          [1] Bl\n305365         310821          [2] Bl\n\n[305366 rows x 2 columns]",
      "text/html": "<div>\n<style scoped>\n    .dataframe tbody tr th:only-of-type {\n        vertical-align: middle;\n    }\n\n    .dataframe tbody tr th {\n        vertical-align: top;\n    }\n\n    .dataframe thead th {\n        text-align: right;\n    }\n</style>\n<table border=\"1\" class=\"dataframe\">\n  <thead>\n    <tr style=\"text-align: right;\">\n      <th></th>\n      <th>record_number</th>\n      <th>value</th>\n    </tr>\n  </thead>\n  <tbody>\n    <tr>\n      <th>0</th>\n      <td>1</td>\n      <td>Umfangsangabe</td>\n    </tr>\n    <tr>\n      <th>1</th>\n      <td>3</td>\n      <td>304 S.</td>\n    </tr>\n    <tr>\n      <th>2</th>\n      <td>4</td>\n      <td>[2] Bl., 192 S</td>\n    </tr>\n    <tr>\n      <th>3</th>\n      <td>5</td>\n      <td>176 S</td>\n    </tr>\n    <tr>\n      <th>4</th>\n      <td>6</td>\n      <td>[2] Bl.</td>\n    </tr>\n    <tr>\n      <th>...</th>\n      <td>...</td>\n      <td>...</td>\n    </tr>\n    <tr>\n      <th>305361</th>\n      <td>310817</td>\n      <td>[81] Bl</td>\n    </tr>\n    <tr>\n      <th>305362</th>\n      <td>310818</td>\n      <td>[2] Bl</td>\n    </tr>\n    <tr>\n      <th>305363</th>\n      <td>310819</td>\n      <td>[1] Bl</td>\n    </tr>\n    <tr>\n      <th>305364</th>\n      <td>310820</td>\n      <td>[1] Bl</td>\n    </tr>\n    <tr>\n      <th>305365</th>\n      <td>310821</td>\n      <td>[2] Bl</td>\n    </tr>\n  </tbody>\n</table>\n<p>305366 rows × 2 columns</p>\n</div>"
     },
     "execution_count": 99,
     "metadata": {},
     "output_type": "execute_result"
    }
   ],
   "source": [
    "from sqlalchemy import text\n",
    "\n",
    "df = pd.read_sql(text(\"\"\"\n",
    "SELECT record_number,value\n",
    "FROM vd17.vd17_a\n",
    "WHERE field_code=\"034D\" AND\n",
    "record_number NOT IN (\n",
    "  SELECT record_number FROM vd17.vd17_a\n",
    "  WHERE field_code=\"034D\"\n",
    "  GROUP BY record_number\n",
    "  HAVING COUNT(*)>1\n",
    ")\n",
    "\"\"\"), con)\n",
    "df"
   ],
   "metadata": {
    "collapsed": false,
    "ExecuteTime": {
     "end_time": "2023-06-12T20:47:42.765980Z",
     "start_time": "2023-06-12T20:47:39.875503Z"
    }
   }
  },
  {
   "cell_type": "code",
   "execution_count": 102,
   "outputs": [
    {
     "data": {
      "text/plain": "        record_number  page_count\n0                   3         304\n1                   4         196\n2                   5         176\n3                   6           4\n4                   7           2\n...               ...         ...\n304057         310817         162\n304058         310818           4\n304059         310819           2\n304060         310820           2\n304061         310821           4\n\n[304062 rows x 2 columns]",
      "text/html": "<div>\n<style scoped>\n    .dataframe tbody tr th:only-of-type {\n        vertical-align: middle;\n    }\n\n    .dataframe tbody tr th {\n        vertical-align: top;\n    }\n\n    .dataframe thead th {\n        text-align: right;\n    }\n</style>\n<table border=\"1\" class=\"dataframe\">\n  <thead>\n    <tr style=\"text-align: right;\">\n      <th></th>\n      <th>record_number</th>\n      <th>page_count</th>\n    </tr>\n  </thead>\n  <tbody>\n    <tr>\n      <th>0</th>\n      <td>3</td>\n      <td>304</td>\n    </tr>\n    <tr>\n      <th>1</th>\n      <td>4</td>\n      <td>196</td>\n    </tr>\n    <tr>\n      <th>2</th>\n      <td>5</td>\n      <td>176</td>\n    </tr>\n    <tr>\n      <th>3</th>\n      <td>6</td>\n      <td>4</td>\n    </tr>\n    <tr>\n      <th>4</th>\n      <td>7</td>\n      <td>2</td>\n    </tr>\n    <tr>\n      <th>...</th>\n      <td>...</td>\n      <td>...</td>\n    </tr>\n    <tr>\n      <th>304057</th>\n      <td>310817</td>\n      <td>162</td>\n    </tr>\n    <tr>\n      <th>304058</th>\n      <td>310818</td>\n      <td>4</td>\n    </tr>\n    <tr>\n      <th>304059</th>\n      <td>310819</td>\n      <td>2</td>\n    </tr>\n    <tr>\n      <th>304060</th>\n      <td>310820</td>\n      <td>2</td>\n    </tr>\n    <tr>\n      <th>304061</th>\n      <td>310821</td>\n      <td>4</td>\n    </tr>\n  </tbody>\n</table>\n<p>304062 rows × 2 columns</p>\n</div>"
     },
     "execution_count": 102,
     "metadata": {},
     "output_type": "execute_result"
    }
   ],
   "source": [
    "import re\n",
    "import roman\n",
    "pageinfo = []\n",
    "def parse(value: str) -> int | None:\n",
    "    pages = 0\n",
    "    v = value.upper()\n",
    "    v = re.sub(\"[1-9][0-9]*( S[^,]+?)?, DAS HEISST\", \"\", v)\n",
    "    v = re.sub(\"[1-9][0-9]* *\\\\[[^\\\\]]*?([1-9][0-9]*)\\\\]\",\"\\\\1\", v)\n",
    "    v = re.sub(\"\\\\[([1-9][0-9]*\\\\??)\\\\]\", \"\\\\1\", v)\n",
    "    v = re.sub(\"\\\\b(M{1,4}(CM|CD|D?C{0,3})(XC|XL|L?X{0,3})(IX|IV|V?I{0,3})|M{0,4}(CM|C?D|D?C{1,3})(XC|XL|L?X{0,3})(IX|IV|V?I{0,3})|M{0,4}(CM|CD|D?C{0,3})(XC|X?L|L?X{1,3})(IX|IV|V?I{0,3})|M{0,4}(CM|CD|D?C{0,3})(XC|XL|L?X{0,3})(IX|I?V|V?I{1,3}))\\\\b\",lambda rn: str(roman.fromRoman(rn.group(1))), v)\n",
    "    while True:\n",
    "        m = re.search(\"(S|B)[^ ]* *([1-9][0-9]*) ?- ?([1-9][0-9]*)\", v)\n",
    "        if m is None:\n",
    "            break\n",
    "        if m.group(1)==\"S\":\n",
    "            multiplier = 1\n",
    "        elif m.group(1)==\"B\":\n",
    "            multiplier = 2\n",
    "        else:\n",
    "            raise ValueError()\n",
    "        pages += multiplier*(int(m.group(3))-int(m.group(2)))\n",
    "        v = v[:m.start()] + v[m.end()+1:]\n",
    "    while True:\n",
    "        m = re.search(\"((?:[1-9][0-9]* *, *)*)([1-9][0-9]*)[^,0-9]*?(S|B)[^,]*\", v)\n",
    "        if m is None:\n",
    "            break\n",
    "        if m.group(3)==\"S\":\n",
    "            multiplier = 1\n",
    "        elif m.group(3)==\"B\":\n",
    "            multiplier = 2\n",
    "        else:\n",
    "            raise ValueError()\n",
    "        if m.group(1) != \"\":\n",
    "            v2 = m.group(1)\n",
    "            while True:\n",
    "                m2 = re.search(\"([1-9][0-9]*) *, *\", v2)\n",
    "                if m2 is None:\n",
    "                    break\n",
    "                pages += int(m2.group(1))*multiplier\n",
    "                v2 = v2[:m2.start()] + v2[m2.end()+1:]\n",
    "        pages += int(m.group(2))*multiplier\n",
    "        v = v[:m.start()] + v[m.end()+1:]\n",
    "    if v.strip()!=\"\" or pages==0:\n",
    "        return None\n",
    "    return pages\n",
    "\n",
    "pages = []\n",
    "for record_number, value in df.itertuples(index=False):\n",
    "    page_count = parse(value)\n",
    "    if page_count is not None:\n",
    "        pages.append((record_number,page_count))\n",
    "tdf = pd.DataFrame(pages, columns=[\"record_number\",\"page_count\"], dtype=pd.Int32Dtype())\n",
    "tdf"
   ],
   "metadata": {
    "collapsed": false,
    "ExecuteTime": {
     "end_time": "2023-06-12T20:48:53.285219Z",
     "start_time": "2023-06-12T20:48:49.972769Z"
    }
   }
  },
  {
   "cell_type": "code",
   "execution_count": 103,
   "outputs": [
    {
     "data": {
      "text/plain": "<sqlalchemy.engine.cursor.CursorResult at 0x135b33520>"
     },
     "execution_count": 103,
     "metadata": {},
     "output_type": "execute_result"
    }
   ],
   "source": [
    "set_session_storage_engine(con, \"Aria\")\n",
    "tdf.to_sql(\"vd17_page_counts_a\", con, index=False, if_exists=\"replace\")\n",
    "con.execute(text(\"ALTER TABLE vd17_page_counts_a ADD UNIQUE INDEX (record_number)\"))\n",
    "con.execute(text(\"CREATE TABLE vd17_page_counts_c AS SELECT * FROM vd17_page_counts_a WHERE 0=1\"))\n",
    "con.execute(text(\"INSERT INTO vd17_page_counts_c SELECT * FROM vd17_page_counts_a\"))"
   ],
   "metadata": {
    "collapsed": false,
    "ExecuteTime": {
     "end_time": "2023-06-12T20:49:00.959814Z",
     "start_time": "2023-06-12T20:48:54.431247Z"
    }
   }
  },
  {
   "cell_type": "code",
   "execution_count": null,
   "outputs": [],
   "source": [],
   "metadata": {
    "collapsed": false
   }
  }
 ],
 "metadata": {
  "kernelspec": {
   "display_name": "Python 3",
   "language": "python",
   "name": "python3"
  },
  "language_info": {
   "codemirror_mode": {
    "name": "ipython",
    "version": 2
   },
   "file_extension": ".py",
   "mimetype": "text/x-python",
   "name": "python",
   "nbconvert_exporter": "python",
   "pygments_lexer": "ipython2",
   "version": "2.7.6"
  }
 },
 "nbformat": 4,
 "nbformat_minor": 0
}
