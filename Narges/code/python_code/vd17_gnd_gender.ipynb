{
 "cells": [
  {
   "cell_type": "code",
   "execution_count": 130,
   "metadata": {},
   "outputs": [],
   "source": [
    "import pandas as pd\n",
    "import csv\n",
    "from urllib.request import urlopen\n",
    "import json\n",
    "import warnings\n",
    "warnings.filterwarnings(\"ignore\")"
   ]
  },
  {
   "cell_type": "code",
   "execution_count": 131,
   "metadata": {},
   "outputs": [],
   "source": [
    "vd17 = pd.read_csv(\"vd17.tsv.gz\", sep='\\t', quotechar='\"')"
   ]
  },
  {
   "cell_type": "code",
   "execution_count": 132,
   "metadata": {},
   "outputs": [
    {
     "data": {
      "text/plain": [
       "(218388, 3)"
      ]
     },
     "execution_count": 132,
     "metadata": {},
     "output_type": "execute_result"
    }
   ],
   "source": [
    "gnd=vd17[(vd17['field_code']=='028A')&(vd17['subfield_code']=='7')]\n",
    "gnd.rename(columns={'value':'gnd'},inplace=True)\n",
    "gnd=gnd[['record_number','gnd']]\n",
    "gnd['gender']=''\n",
    "gnd.shape"
   ]
  },
  {
   "cell_type": "code",
   "execution_count": 6,
   "metadata": {},
   "outputs": [
    {
     "name": "stdout",
     "output_type": "stream",
     "text": [
      "0\n",
      "gnd/136187366 'gender'\n",
      "10000\n",
      "20000\n",
      "gnd/10602373 list index out of range\n",
      "30000\n"
     ]
    }
   ],
   "source": [
    "gender={}\n",
    "for i in gnd['gnd'].unique():\n",
    "    gender[i]=''\n",
    "    \n",
    "#extracting the gender of each gnd from API    \n",
    "j=0\n",
    "for i in gender:\n",
    "    if j%10000==0:\n",
    "        print(j)\n",
    "    try:\n",
    "        json_url=urlopen(\"https://lobid.org/gnd/search?q=\"+i+\"&format=json\")\n",
    "        data = json.loads(json_url.read())\n",
    "        gender[i]=data['member'][0]['gender'][0]['label']\n",
    "    except Exception as ex:\n",
    "        print(i,ex)\n",
    "    j+=1"
   ]
  },
  {
   "cell_type": "code",
   "execution_count": 8,
   "metadata": {},
   "outputs": [],
   "source": [
    "for index,row in gnd.iterrows():\n",
    "    gnd.loc[index,'gender']=gender[row['gnd']]"
   ]
  },
  {
   "cell_type": "code",
   "execution_count": 12,
   "metadata": {},
   "outputs": [],
   "source": [
    "gnd.to_csv('gnd_gender.csv')"
   ]
  }
 ],
 "metadata": {
  "kernelspec": {
   "display_name": "Python 3",
   "language": "python",
   "name": "python3"
  },
  "language_info": {
   "codemirror_mode": {
    "name": "ipython",
    "version": 3
   },
   "file_extension": ".py",
   "mimetype": "text/x-python",
   "name": "python",
   "nbconvert_exporter": "python",
   "pygments_lexer": "ipython3",
   "version": "3.7.2"
  }
 },
 "nbformat": 4,
 "nbformat_minor": 4
}
