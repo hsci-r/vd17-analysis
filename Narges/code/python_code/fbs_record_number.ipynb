{
 "cells": [
  {
   "cell_type": "code",
   "execution_count": 1,
   "metadata": {},
   "outputs": [],
   "source": [
    "import pandas as pd\n",
    "import csv\n",
    "import warnings\n",
    "warnings.filterwarnings(\"ignore\")"
   ]
  },
  {
   "cell_type": "code",
   "execution_count": 2,
   "metadata": {},
   "outputs": [],
   "source": [
    "vd17 = pd.read_csv(\"vd17.tsv.gz\", sep='\\t', quotechar='\"')"
   ]
  },
  {
   "cell_type": "code",
   "execution_count": 3,
   "metadata": {},
   "outputs": [
    {
     "data": {
      "text/plain": [
       "(218388, 2)"
      ]
     },
     "execution_count": 3,
     "metadata": {},
     "output_type": "execute_result"
    }
   ],
   "source": [
    "gnd=vd17[(vd17['field_code']=='028A')&(vd17['subfield_code']=='7')]\n",
    "gnd.rename(columns={'value':'gnd'},inplace=True)\n",
    "gnd=gnd[['record_number','gnd']]\n",
    "gnd.shape"
   ]
  },
  {
   "cell_type": "code",
   "execution_count": 4,
   "metadata": {},
   "outputs": [],
   "source": [
    "fbs = pd.read_excel(r'Member_GNDs_Masterfile.xlsx')\n",
    "fbs = pd.DataFrame(fbs)\n",
    "fbs.rename(columns={'GND':'gnd'},inplace=True)\n",
    "fbs=fbs[['gnd']]"
   ]
  },
  {
   "cell_type": "code",
   "execution_count": 5,
   "metadata": {},
   "outputs": [],
   "source": [
    "for index,row in fbs.iterrows():\n",
    "    if 'X' in str(row['gnd']):\n",
    "        fbs.loc[index,'gnd']='gnd/'+row['gnd'].strip()\n",
    "    else:\n",
    "        g=int(row['gnd'])\n",
    "        g=str(g)\n",
    "        fbs.loc[index,'gnd']='gnd/'+g.strip()"
   ]
  },
  {
   "cell_type": "code",
   "execution_count": 6,
   "metadata": {},
   "outputs": [],
   "source": [
    "fbs_gnd=pd.merge(fbs,gnd,on='gnd')"
   ]
  },
  {
   "cell_type": "code",
   "execution_count": 7,
   "metadata": {},
   "outputs": [],
   "source": [
    "fbs_gnd.to_csv('fbs_record_number.csv')"
   ]
  }
 ],
 "metadata": {
  "kernelspec": {
   "display_name": "Python 3",
   "language": "python",
   "name": "python3"
  },
  "language_info": {
   "codemirror_mode": {
    "name": "ipython",
    "version": 3
   },
   "file_extension": ".py",
   "mimetype": "text/x-python",
   "name": "python",
   "nbconvert_exporter": "python",
   "pygments_lexer": "ipython3",
   "version": "3.7.2"
  }
 },
 "nbformat": 4,
 "nbformat_minor": 4
}
